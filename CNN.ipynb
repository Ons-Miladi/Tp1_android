{
  "nbformat": 4,
  "nbformat_minor": 0,
  "metadata": {
    "colab": {
      "provenance": [],
      "authorship_tag": "ABX9TyOuj3JTt+KBzgzoaZLbAaV1",
      "include_colab_link": true
    },
    "kernelspec": {
      "name": "python3",
      "display_name": "Python 3"
    },
    "language_info": {
      "name": "python"
    }
  },
  "cells": [
    {
      "cell_type": "markdown",
      "metadata": {
        "id": "view-in-github",
        "colab_type": "text"
      },
      "source": [
        "<a href=\"https://colab.research.google.com/github/Ons-Miladi/Tp1_android/blob/main/CNN.ipynb\" target=\"_parent\"><img src=\"https://colab.research.google.com/assets/colab-badge.svg\" alt=\"Open In Colab\"/></a>"
      ]
    },
    {
      "cell_type": "code",
      "execution_count": 2,
      "metadata": {
        "id": "0LC6TZ_iXItS",
        "colab": {
          "base_uri": "https://localhost:8080/"
        },
        "outputId": "38f99326-317b-42a1-de53-387e02f431f2"
      },
      "outputs": [
        {
          "output_type": "stream",
          "name": "stdout",
          "text": [
            "Downloading data from https://www.cs.toronto.edu/~kriz/cifar-10-python.tar.gz\n",
            "170498071/170498071 [==============================] - 2s 0us/step\n"
          ]
        }
      ],
      "source": [
        "import tensorflow as tf\n",
        "from tensorflow.keras.models import Sequential\n",
        "from tensorflow.keras.layers import Dense,Activation,Flatten\n",
        "import matplotlib .pyplot as plt\n",
        "import numpy as np\n",
        "from tensorflow.keras.datasets import cifar10\n",
        "from tensorflow.keras.layers import Conv2D,MaxPooling2D\n",
        "from tensorflow.keras.preprocessing.image import ImageDataGenerator\n",
        "#chargement de la base de donnée\n",
        "(X_train,y_train),(X_test,y_test)=cifar10.load_data()\n",
        "#plt.imshow(X_train[6])\n",
        "#print(y_train[6])\n",
        "#X_train[6]\n",
        "#normaliser données\n",
        "X_train=X_train/255.0\n",
        "y_train=y_train/255.0\n",
        "#X_train[3]\n",
        "#créer un model\n",
        "model=Sequential()\n",
        "#créer le réseau cnn,con2d:type de couche,256 est le nombre de fitres,(3,3) :taille de filtre\n",
        "#input_shape:taille d'entrée/\n",
        "model.add(Conv2D(256,(3,3),input_shape=X_train.shape[1:]))\n",
        "model.add(Activation('relu'))\n",
        "model.add(MaxPooling2D(pool_size=(2,2)))\n",
        "model.add(Flatten())"
      ]
    },
    {
      "cell_type": "code",
      "source": [
        "#compéltement connecté\n",
        "model.add(Dense(64))\n",
        "model.add(Dense(10))##ajouter une couche\n",
        "model.add(Activation('sigmoid'))\n",
        "model.compile(loss=\"sparse_categorical_crossentropy\",optimizer=\"Adam\",metrics=[\"sparse_categorical_accuracy\"])\n",
        "model.summary()"
      ],
      "metadata": {
        "colab": {
          "base_uri": "https://localhost:8080/"
        },
        "id": "0MlOwYp5ctL0",
        "outputId": "b172d808-7c3c-413b-d7c2-aec12f224e15"
      },
      "execution_count": 4,
      "outputs": [
        {
          "output_type": "stream",
          "name": "stdout",
          "text": [
            "Model: \"sequential\"\n",
            "_________________________________________________________________\n",
            " Layer (type)                Output Shape              Param #   \n",
            "=================================================================\n",
            " conv2d (Conv2D)             (None, 30, 30, 256)       7168      \n",
            "                                                                 \n",
            " activation (Activation)     (None, 30, 30, 256)       0         \n",
            "                                                                 \n",
            " max_pooling2d (MaxPooling2D  (None, 15, 15, 256)      0         \n",
            " )                                                               \n",
            "                                                                 \n",
            " flatten (Flatten)           (None, 57600)             0         \n",
            "                                                                 \n",
            " dense (Dense)               (None, 64)                3686464   \n",
            "                                                                 \n",
            " dense_1 (Dense)             (None, 10)                650       \n",
            "                                                                 \n",
            " activation_1 (Activation)   (None, 10)                0         \n",
            "                                                                 \n",
            " dense_2 (Dense)             (None, 64)                704       \n",
            "                                                                 \n",
            " dense_3 (Dense)             (None, 10)                650       \n",
            "                                                                 \n",
            " activation_2 (Activation)   (None, 10)                0         \n",
            "                                                                 \n",
            "=================================================================\n",
            "Total params: 3,695,636\n",
            "Trainable params: 3,695,636\n",
            "Non-trainable params: 0\n",
            "_________________________________________________________________\n"
          ]
        }
      ]
    },
    {
      "cell_type": "code",
      "source": [
        "#Entrainer le modéle\n",
        "model.fit(X_train,y_train,batch_size=32,epochs=10)\n"
      ],
      "metadata": {
        "id": "_6z5cSgrdMtL",
        "colab": {
          "base_uri": "https://localhost:8080/"
        },
        "outputId": "67996579-93f5-4a47-f1e5-9246b5c38d79"
      },
      "execution_count": 6,
      "outputs": [
        {
          "output_type": "stream",
          "name": "stdout",
          "text": [
            "Epoch 1/10\n",
            "1563/1563 [==============================] - 152s 97ms/step - loss: 0.0243 - sparse_categorical_accuracy: 0.0999\n",
            "Epoch 2/10\n",
            "1563/1563 [==============================] - 149s 95ms/step - loss: 9.0465e-05 - sparse_categorical_accuracy: 0.1000\n",
            "Epoch 3/10\n",
            "1563/1563 [==============================] - 150s 96ms/step - loss: 2.4160e-05 - sparse_categorical_accuracy: 0.1000\n",
            "Epoch 4/10\n",
            "1563/1563 [==============================] - 156s 100ms/step - loss: 8.5872e-06 - sparse_categorical_accuracy: 0.1000\n",
            "Epoch 5/10\n",
            "1563/1563 [==============================] - 153s 98ms/step - loss: 3.3740e-06 - sparse_categorical_accuracy: 0.1000\n",
            "Epoch 6/10\n",
            "1563/1563 [==============================] - 154s 98ms/step - loss: 1.3987e-06 - sparse_categorical_accuracy: 0.1000\n",
            "Epoch 7/10\n",
            "1563/1563 [==============================] - 153s 98ms/step - loss: 5.6667e-07 - sparse_categorical_accuracy: 0.1000\n",
            "Epoch 8/10\n",
            "1563/1563 [==============================] - 161s 103ms/step - loss: 2.4139e-07 - sparse_categorical_accuracy: 0.1000\n",
            "Epoch 9/10\n",
            "1563/1563 [==============================] - 155s 99ms/step - loss: 0.0000e+00 - sparse_categorical_accuracy: 0.1000\n",
            "Epoch 10/10\n",
            "1563/1563 [==============================] - 152s 97ms/step - loss: 0.0000e+00 - sparse_categorical_accuracy: 0.1000\n"
          ]
        },
        {
          "output_type": "execute_result",
          "data": {
            "text/plain": [
              "<keras.callbacks.History at 0x7fc5c26d2470>"
            ]
          },
          "metadata": {},
          "execution_count": 6
        }
      ]
    }
  ]
}